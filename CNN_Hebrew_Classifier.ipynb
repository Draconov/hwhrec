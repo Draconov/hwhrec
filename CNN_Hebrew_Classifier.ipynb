{
  "cells": [
    {
      "cell_type": "markdown",
      "id": "3295a946",
      "metadata": {
        "id": "3295a946"
      },
      "source": [
        "# 🧠 CNN Classifier for Handwritten Hebrew Letters\n",
        "This notebook implements a deep CNN to classify handwritten Hebrew letters using the HHD dataset.\n",
        "\n",
        "**Experiments:**\n",
        "- Training without data augmentation\n",
        "- Training with data augmentation\n"
      ]
    },
    {
      "cell_type": "markdown",
      "id": "247b5ec4",
      "metadata": {
        "id": "247b5ec4"
      },
      "source": [
        "## 📦 1. Imports and Setup"
      ]
    },
    {
      "cell_type": "code",
      "execution_count": 1,
      "id": "83e355f4",
      "metadata": {
        "id": "83e355f4"
      },
      "outputs": [],
      "source": [
        "import numpy as np\n",
        "import os\n",
        "import cv2\n",
        "import matplotlib.pyplot as plt\n",
        "from sklearn.model_selection import train_test_split\n",
        "from sklearn.metrics import confusion_matrix\n",
        "import pandas as pd\n",
        "import seaborn as sns\n",
        "import tensorflow as tf\n",
        "from tensorflow.keras.models import Sequential\n",
        "from tensorflow.keras.layers import Conv2D, MaxPooling2D, Dropout, Flatten, Dense\n",
        "from tensorflow.keras.preprocessing.image import ImageDataGenerator\n"
      ]
    },
    {
      "cell_type": "markdown",
      "id": "f2945e16",
      "metadata": {
        "id": "f2945e16"
      },
      "source": [
        "## 🧼 2. Preprocessing Function"
      ]
    },
    {
      "cell_type": "code",
      "execution_count": 2,
      "id": "67e2438c",
      "metadata": {
        "id": "67e2438c"
      },
      "outputs": [],
      "source": [
        "def preprocess_image(image_path):\n",
        "    img = cv2.imread(image_path, cv2.IMREAD_GRAYSCALE)\n",
        "    if img is None:\n",
        "        return None\n",
        "    h, w = img.shape\n",
        "    if h > w:\n",
        "        pad = (h - w) // 2\n",
        "        img = cv2.copyMakeBorder(img, 0, 0, pad, h - w - pad, cv2.BORDER_CONSTANT, value=255)\n",
        "    elif w > h:\n",
        "        pad = (w - h) // 2\n",
        "        img = cv2.copyMakeBorder(img, pad, w - h - pad, 0, 0, cv2.BORDER_CONSTANT, value=255)\n",
        "    img = cv2.resize(img, (32, 32))\n",
        "    img = 255 - img\n",
        "    return img.astype(np.float32) / 255.0"
      ]
    },
    {
      "cell_type": "markdown",
      "id": "5c5d8c49",
      "metadata": {
        "id": "5c5d8c49"
      },
      "source": [
        "## 📥 3. Dataset Loader"
      ]
    },
    {
      "cell_type": "code",
      "execution_count": 6,
      "id": "eda705e9",
      "metadata": {
        "colab": {
          "base_uri": "https://localhost:8080/",
          "height": 73
        },
        "id": "eda705e9",
        "outputId": "c490a584-56b1-4935-b87e-bd0514d707a2"
      },
      "outputs": [
        {
          "output_type": "display_data",
          "data": {
            "text/plain": [
              "<IPython.core.display.HTML object>"
            ],
            "text/html": [
              "\n",
              "     <input type=\"file\" id=\"files-09f33725-62fa-49c1-b3d4-6e0abaf211c0\" name=\"files[]\" multiple disabled\n",
              "        style=\"border:none\" />\n",
              "     <output id=\"result-09f33725-62fa-49c1-b3d4-6e0abaf211c0\">\n",
              "      Upload widget is only available when the cell has been executed in the\n",
              "      current browser session. Please rerun this cell to enable.\n",
              "      </output>\n",
              "      <script>// Copyright 2017 Google LLC\n",
              "//\n",
              "// Licensed under the Apache License, Version 2.0 (the \"License\");\n",
              "// you may not use this file except in compliance with the License.\n",
              "// You may obtain a copy of the License at\n",
              "//\n",
              "//      http://www.apache.org/licenses/LICENSE-2.0\n",
              "//\n",
              "// Unless required by applicable law or agreed to in writing, software\n",
              "// distributed under the License is distributed on an \"AS IS\" BASIS,\n",
              "// WITHOUT WARRANTIES OR CONDITIONS OF ANY KIND, either express or implied.\n",
              "// See the License for the specific language governing permissions and\n",
              "// limitations under the License.\n",
              "\n",
              "/**\n",
              " * @fileoverview Helpers for google.colab Python module.\n",
              " */\n",
              "(function(scope) {\n",
              "function span(text, styleAttributes = {}) {\n",
              "  const element = document.createElement('span');\n",
              "  element.textContent = text;\n",
              "  for (const key of Object.keys(styleAttributes)) {\n",
              "    element.style[key] = styleAttributes[key];\n",
              "  }\n",
              "  return element;\n",
              "}\n",
              "\n",
              "// Max number of bytes which will be uploaded at a time.\n",
              "const MAX_PAYLOAD_SIZE = 100 * 1024;\n",
              "\n",
              "function _uploadFiles(inputId, outputId) {\n",
              "  const steps = uploadFilesStep(inputId, outputId);\n",
              "  const outputElement = document.getElementById(outputId);\n",
              "  // Cache steps on the outputElement to make it available for the next call\n",
              "  // to uploadFilesContinue from Python.\n",
              "  outputElement.steps = steps;\n",
              "\n",
              "  return _uploadFilesContinue(outputId);\n",
              "}\n",
              "\n",
              "// This is roughly an async generator (not supported in the browser yet),\n",
              "// where there are multiple asynchronous steps and the Python side is going\n",
              "// to poll for completion of each step.\n",
              "// This uses a Promise to block the python side on completion of each step,\n",
              "// then passes the result of the previous step as the input to the next step.\n",
              "function _uploadFilesContinue(outputId) {\n",
              "  const outputElement = document.getElementById(outputId);\n",
              "  const steps = outputElement.steps;\n",
              "\n",
              "  const next = steps.next(outputElement.lastPromiseValue);\n",
              "  return Promise.resolve(next.value.promise).then((value) => {\n",
              "    // Cache the last promise value to make it available to the next\n",
              "    // step of the generator.\n",
              "    outputElement.lastPromiseValue = value;\n",
              "    return next.value.response;\n",
              "  });\n",
              "}\n",
              "\n",
              "/**\n",
              " * Generator function which is called between each async step of the upload\n",
              " * process.\n",
              " * @param {string} inputId Element ID of the input file picker element.\n",
              " * @param {string} outputId Element ID of the output display.\n",
              " * @return {!Iterable<!Object>} Iterable of next steps.\n",
              " */\n",
              "function* uploadFilesStep(inputId, outputId) {\n",
              "  const inputElement = document.getElementById(inputId);\n",
              "  inputElement.disabled = false;\n",
              "\n",
              "  const outputElement = document.getElementById(outputId);\n",
              "  outputElement.innerHTML = '';\n",
              "\n",
              "  const pickedPromise = new Promise((resolve) => {\n",
              "    inputElement.addEventListener('change', (e) => {\n",
              "      resolve(e.target.files);\n",
              "    });\n",
              "  });\n",
              "\n",
              "  const cancel = document.createElement('button');\n",
              "  inputElement.parentElement.appendChild(cancel);\n",
              "  cancel.textContent = 'Cancel upload';\n",
              "  const cancelPromise = new Promise((resolve) => {\n",
              "    cancel.onclick = () => {\n",
              "      resolve(null);\n",
              "    };\n",
              "  });\n",
              "\n",
              "  // Wait for the user to pick the files.\n",
              "  const files = yield {\n",
              "    promise: Promise.race([pickedPromise, cancelPromise]),\n",
              "    response: {\n",
              "      action: 'starting',\n",
              "    }\n",
              "  };\n",
              "\n",
              "  cancel.remove();\n",
              "\n",
              "  // Disable the input element since further picks are not allowed.\n",
              "  inputElement.disabled = true;\n",
              "\n",
              "  if (!files) {\n",
              "    return {\n",
              "      response: {\n",
              "        action: 'complete',\n",
              "      }\n",
              "    };\n",
              "  }\n",
              "\n",
              "  for (const file of files) {\n",
              "    const li = document.createElement('li');\n",
              "    li.append(span(file.name, {fontWeight: 'bold'}));\n",
              "    li.append(span(\n",
              "        `(${file.type || 'n/a'}) - ${file.size} bytes, ` +\n",
              "        `last modified: ${\n",
              "            file.lastModifiedDate ? file.lastModifiedDate.toLocaleDateString() :\n",
              "                                    'n/a'} - `));\n",
              "    const percent = span('0% done');\n",
              "    li.appendChild(percent);\n",
              "\n",
              "    outputElement.appendChild(li);\n",
              "\n",
              "    const fileDataPromise = new Promise((resolve) => {\n",
              "      const reader = new FileReader();\n",
              "      reader.onload = (e) => {\n",
              "        resolve(e.target.result);\n",
              "      };\n",
              "      reader.readAsArrayBuffer(file);\n",
              "    });\n",
              "    // Wait for the data to be ready.\n",
              "    let fileData = yield {\n",
              "      promise: fileDataPromise,\n",
              "      response: {\n",
              "        action: 'continue',\n",
              "      }\n",
              "    };\n",
              "\n",
              "    // Use a chunked sending to avoid message size limits. See b/62115660.\n",
              "    let position = 0;\n",
              "    do {\n",
              "      const length = Math.min(fileData.byteLength - position, MAX_PAYLOAD_SIZE);\n",
              "      const chunk = new Uint8Array(fileData, position, length);\n",
              "      position += length;\n",
              "\n",
              "      const base64 = btoa(String.fromCharCode.apply(null, chunk));\n",
              "      yield {\n",
              "        response: {\n",
              "          action: 'append',\n",
              "          file: file.name,\n",
              "          data: base64,\n",
              "        },\n",
              "      };\n",
              "\n",
              "      let percentDone = fileData.byteLength === 0 ?\n",
              "          100 :\n",
              "          Math.round((position / fileData.byteLength) * 100);\n",
              "      percent.textContent = `${percentDone}% done`;\n",
              "\n",
              "    } while (position < fileData.byteLength);\n",
              "  }\n",
              "\n",
              "  // All done.\n",
              "  yield {\n",
              "    response: {\n",
              "      action: 'complete',\n",
              "    }\n",
              "  };\n",
              "}\n",
              "\n",
              "scope.google = scope.google || {};\n",
              "scope.google.colab = scope.google.colab || {};\n",
              "scope.google.colab._files = {\n",
              "  _uploadFiles,\n",
              "  _uploadFilesContinue,\n",
              "};\n",
              "})(self);\n",
              "</script> "
            ]
          },
          "metadata": {}
        },
        {
          "output_type": "stream",
          "name": "stdout",
          "text": [
            "Saving hhd.zip to hhd (1).zip\n"
          ]
        }
      ],
      "source": [
        "from google.colab import files\n",
        "files.upload()  # Upload hhd.zip\n",
        "\n",
        "import zipfile\n",
        "\n",
        "os.makedirs(\"hhd_dataset\", exist_ok=True)\n",
        "\n",
        "with zipfile.ZipFile(\"hhd.zip\", 'r') as zip_ref:\n",
        "    zip_ref.extractall(\"hhd_dataset\")\n",
        "\n",
        "def load_dataset(base_dir):\n",
        "    X, y = load_dataset(\"hhd_dataset\")\n",
        "    for label in range(27):\n",
        "        folder = os.path.join(base_dir, str(label))\n",
        "        if not os.path.exists(folder): continue\n",
        "        for fname in os.listdir(folder):\n",
        "            img_path = os.path.join(folder, fname)\n",
        "            img = preprocess_image(img_path)\n",
        "            if img is not None:\n",
        "                X.append(img.reshape(32, 32, 1))\n",
        "                y.append(label)\n",
        "    return np.array(X), np.array(y)"
      ]
    },
    {
      "cell_type": "markdown",
      "id": "96d9afbd",
      "metadata": {
        "id": "96d9afbd"
      },
      "source": [
        "## 🔀 4. Load and Split Dataset"
      ]
    },
    {
      "cell_type": "code",
      "execution_count": 12,
      "id": "cc918cfa",
      "metadata": {
        "id": "cc918cfa"
      },
      "outputs": [],
      "source": [
        "import shutil\n",
        "from sklearn.model_selection import train_test_split\n",
        "\n",
        "image_paths = []\n",
        "labels = []\n",
        "\n",
        "# Collect image paths and labels\n",
        "for label in range(27):\n",
        "    class_dir = os.path.join(\"hhd_dataset\", str(label))\n",
        "    if not os.path.exists(class_dir):\n",
        "        continue\n",
        "    for fname in os.listdir(class_dir):\n",
        "        if fname.endswith(('.png', '.jpg', '.jpeg')):\n",
        "            image_paths.append(os.path.join(class_dir, fname))\n",
        "            labels.append(label)\n",
        "\n",
        "# Split\n",
        "X_temp, X_test, y_temp, y_test = train_test_split(image_paths, labels, test_size=0.1, stratify=labels, random_state=42)\n",
        "X_train, X_val, y_train, y_val = train_test_split(X_temp, y_temp, test_size=0.1111, stratify=y_temp, random_state=42)\n",
        "\n",
        "# Define save function\n",
        "def save_split(X, y, folder):\n",
        "    for path, label in zip(X, y):\n",
        "        out_dir = os.path.join(\"processed_hhd\", folder, str(label))\n",
        "        os.makedirs(out_dir, exist_ok=True)\n",
        "        shutil.copy(path, os.path.join(out_dir, os.path.basename(path)))\n",
        "\n",
        "# Save to folders\n",
        "save_split(X_train, y_train, \"train\")\n",
        "save_split(X_val, y_val, \"val\")\n",
        "save_split(X_test, y_test, \"test\")\n",
        "\n",
        "# Define load dataset function\n",
        "def load_dataset(base_dir):\n",
        "    X, y = [], []\n",
        "    for label in range(27):\n",
        "        folder = os.path.join(base_dir, str(label))\n",
        "        if not os.path.exists(folder):\n",
        "            continue\n",
        "        for fname in os.listdir(folder):\n",
        "            img_path = os.path.join(folder, fname)\n",
        "            img = preprocess_image(img_path)\n",
        "            if img is not None:\n",
        "                X.append(img.reshape(32, 32, 1))\n",
        "                y.append(label)\n",
        "    return np.array(X), np.array(y)\n",
        "\n",
        "# Load images for CNN\n",
        "X_train, y_train = load_dataset(\"processed_hhd/train\")\n",
        "X_val, y_val     = load_dataset(\"processed_hhd/val\")\n",
        "X_test, y_test   = load_dataset(\"processed_hhd/test\")"
      ]
    },
    {
      "cell_type": "markdown",
      "id": "f23bfafc",
      "metadata": {
        "id": "f23bfafc"
      },
      "source": [
        "## 🧠 5. CNN Model Architecture"
      ]
    },
    {
      "cell_type": "code",
      "execution_count": null,
      "id": "4e8f35d2",
      "metadata": {
        "id": "4e8f35d2"
      },
      "outputs": [],
      "source": [
        "def build_cnn():\n",
        "    model = Sequential()\n",
        "    for filters in [32, 64, 128]:\n",
        "        model.add(Conv2D(filters, (3, 3), activation='relu', padding='same'))\n",
        "        model.add(Conv2D(filters, (3, 3), activation='relu', padding='same'))\n",
        "        model.add(MaxPooling2D(pool_size=(2, 2)))\n",
        "        model.add(Dropout(0.25))\n",
        "    model.add(Flatten())\n",
        "    model.add(Dense(512, activation='relu'))\n",
        "    model.add(Dropout(0.5))\n",
        "    model.add(Dense(27, activation='softmax'))\n",
        "    model.compile(optimizer='adam', loss='sparse_categorical_crossentropy', metrics=['accuracy'])\n",
        "    return model"
      ]
    },
    {
      "cell_type": "markdown",
      "id": "d4b2b620",
      "metadata": {
        "id": "d4b2b620"
      },
      "source": [
        "## 🚂 6. Train CNN (No Augmentation)"
      ]
    },
    {
      "cell_type": "code",
      "execution_count": null,
      "id": "c251aa93",
      "metadata": {
        "id": "c251aa93"
      },
      "outputs": [],
      "source": [
        "model = build_cnn()\n",
        "history = model.fit(X_train, y_train, epochs=50, batch_size=32, validation_data=(X_val, y_val))"
      ]
    },
    {
      "cell_type": "markdown",
      "id": "9001d993",
      "metadata": {
        "id": "9001d993"
      },
      "source": [
        "## 🚀 7. Train CNN (With Augmentation)"
      ]
    },
    {
      "cell_type": "code",
      "execution_count": null,
      "id": "50de2f50",
      "metadata": {
        "id": "50de2f50"
      },
      "outputs": [],
      "source": [
        "datagen = ImageDataGenerator(\n",
        "    width_shift_range=0.1,\n",
        "    height_shift_range=0.1,\n",
        "    rotation_range=10,\n",
        "    shear_range=0.2,\n",
        "    brightness_range=(0.2, 1.8))\n",
        "datagen.fit(X_train)\n",
        "model_aug = build_cnn()\n",
        "history_aug = model_aug.fit(datagen.flow(X_train, y_train, batch_size=32),\n",
        "                             validation_data=(X_val, y_val), epochs=50)"
      ]
    },
    {
      "cell_type": "markdown",
      "id": "089d57a2",
      "metadata": {
        "id": "089d57a2"
      },
      "source": [
        "## 📉 8. Plot Training vs Validation Loss"
      ]
    },
    {
      "cell_type": "code",
      "execution_count": null,
      "id": "e2acccb6",
      "metadata": {
        "id": "e2acccb6"
      },
      "outputs": [],
      "source": [
        "plt.plot(history.history['loss'], label='Train Loss (no aug)')\n",
        "plt.plot(history.history['val_loss'], label='Val Loss (no aug)')\n",
        "plt.plot(history_aug.history['loss'], label='Train Loss (aug)')\n",
        "plt.plot(history_aug.history['val_loss'], label='Val Loss (aug)')\n",
        "plt.xlabel('Epoch'); plt.ylabel('Loss'); plt.title('Training and Validation Loss')\n",
        "plt.legend(); plt.grid(True); plt.savefig('loss_curve.png'); plt.show()"
      ]
    },
    {
      "cell_type": "markdown",
      "id": "7003bbe3",
      "metadata": {
        "id": "7003bbe3"
      },
      "source": [
        "## 📊 9. Evaluate on Test Set and Save Results"
      ]
    },
    {
      "cell_type": "code",
      "execution_count": null,
      "id": "20cf9082",
      "metadata": {
        "id": "20cf9082"
      },
      "outputs": [],
      "source": [
        "y_pred = np.argmax(model_aug.predict(X_test), axis=1)\n",
        "cm = confusion_matrix(y_test, y_pred)\n",
        "acc_per_class = cm.diagonal() / cm.sum(axis=1)\n",
        "for i, acc in enumerate(acc_per_class):\n",
        "    print(f'Letter {i}: {acc:.2f}')\n",
        "print('Average accuracy:', acc_per_class.mean())\n",
        "pd.DataFrame(cm).to_csv('confusion_matrix.csv', index=False)\n",
        "with open('results.txt', 'w') as f:\n",
        "    f.write('Letter    Accuracy\\n')\n",
        "    for i, acc in enumerate(acc_per_class):\n",
        "        f.write(f'{i:<10}{acc:.4f}\\n')\n",
        "    f.write(f'\\nAverage accuracy: {acc_per_class.mean():.4f}\\n')"
      ]
    }
  ],
  "metadata": {
    "colab": {
      "provenance": []
    },
    "language_info": {
      "name": "python"
    },
    "kernelspec": {
      "name": "python3",
      "display_name": "Python 3"
    }
  },
  "nbformat": 4,
  "nbformat_minor": 5
}