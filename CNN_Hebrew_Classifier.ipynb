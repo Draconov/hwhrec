{
  "cells": [
    {
      "cell_type": "markdown",
      "id": "3295a946",
      "metadata": {
        "id": "3295a946"
      },
      "source": [
        "# 🧠 CNN Classifier for Handwritten Hebrew Letters\n",
        "This notebook implements a deep CNN to classify handwritten Hebrew letters using the HHD dataset.\n",
        "\n",
        "**Experiments:**\n",
        "- Training without data augmentation\n",
        "- Training with data augmentation\n"
      ]
    },
    {
      "cell_type": "markdown",
      "id": "247b5ec4",
      "metadata": {
        "id": "247b5ec4"
      },
      "source": [
        "## 📦 1. Imports and Setup"
      ]
    },
    {
      "cell_type": "code",
      "execution_count": 2,
      "id": "83e355f4",
      "metadata": {
        "id": "83e355f4"
      },
      "outputs": [],
      "source": [
        "import numpy as np\n",
        "import os\n",
        "import cv2\n",
        "import matplotlib.pyplot as plt\n",
        "from sklearn.model_selection import train_test_split\n",
        "from sklearn.metrics import confusion_matrix\n",
        "import pandas as pd\n",
        "import seaborn as sns\n",
        "import tensorflow as tf\n",
        "from tensorflow.keras.models import Sequential\n",
        "from tensorflow.keras.layers import Conv2D, MaxPooling2D, Dropout, Flatten, Dense\n",
        "from tensorflow.keras.preprocessing.image import ImageDataGenerator\n"
      ]
    },
    {
      "cell_type": "markdown",
      "id": "f2945e16",
      "metadata": {
        "id": "f2945e16"
      },
      "source": [
        "## 🧼 2. Preprocessing Function\n",
        "Define a function that normalizes and resizes input images to 32x32, including padding and inversion."
      ]
    },
    {
      "cell_type": "code",
      "execution_count": 3,
      "id": "67e2438c",
      "metadata": {
        "id": "67e2438c"
      },
      "outputs": [],
      "source": [
        "def preprocess_image(image_path):\n",
        "    img = cv2.imread(image_path, cv2.IMREAD_GRAYSCALE)\n",
        "    if img is None:\n",
        "        return None\n",
        "    h, w = img.shape\n",
        "    if h > w:\n",
        "        pad = (h - w) // 2\n",
        "        img = cv2.copyMakeBorder(img, 0, 0, pad, h - w - pad, cv2.BORDER_CONSTANT, value=255)\n",
        "    elif w > h:\n",
        "        pad = (w - h) // 2\n",
        "        img = cv2.copyMakeBorder(img, pad, w - h - pad, 0, 0, cv2.BORDER_CONSTANT, value=255)\n",
        "    img = cv2.resize(img, (32, 32))\n",
        "    img = 255 - img\n",
        "    return img.astype(np.float32) / 255.0"
      ]
    },
    {
      "cell_type": "markdown",
      "id": "5c5d8c49",
      "metadata": {
        "id": "5c5d8c49"
      },
      "source": [
        "## 📥 3. Dataset Loader"
      ]
    },
    {
      "cell_type": "code",
      "execution_count": 4,
      "id": "eda705e9",
      "metadata": {
        "colab": {
          "base_uri": "https://localhost:8080/",
          "height": 73
        },
        "id": "eda705e9",
        "outputId": "34a1c1e1-f008-4f98-afa5-704fd94abe8f"
      },
      "outputs": [
        {
          "output_type": "display_data",
          "data": {
            "text/plain": [
              "<IPython.core.display.HTML object>"
            ],
            "text/html": [
              "\n",
              "     <input type=\"file\" id=\"files-0f294f1a-83af-41f4-b307-17144192c713\" name=\"files[]\" multiple disabled\n",
              "        style=\"border:none\" />\n",
              "     <output id=\"result-0f294f1a-83af-41f4-b307-17144192c713\">\n",
              "      Upload widget is only available when the cell has been executed in the\n",
              "      current browser session. Please rerun this cell to enable.\n",
              "      </output>\n",
              "      <script>// Copyright 2017 Google LLC\n",
              "//\n",
              "// Licensed under the Apache License, Version 2.0 (the \"License\");\n",
              "// you may not use this file except in compliance with the License.\n",
              "// You may obtain a copy of the License at\n",
              "//\n",
              "//      http://www.apache.org/licenses/LICENSE-2.0\n",
              "//\n",
              "// Unless required by applicable law or agreed to in writing, software\n",
              "// distributed under the License is distributed on an \"AS IS\" BASIS,\n",
              "// WITHOUT WARRANTIES OR CONDITIONS OF ANY KIND, either express or implied.\n",
              "// See the License for the specific language governing permissions and\n",
              "// limitations under the License.\n",
              "\n",
              "/**\n",
              " * @fileoverview Helpers for google.colab Python module.\n",
              " */\n",
              "(function(scope) {\n",
              "function span(text, styleAttributes = {}) {\n",
              "  const element = document.createElement('span');\n",
              "  element.textContent = text;\n",
              "  for (const key of Object.keys(styleAttributes)) {\n",
              "    element.style[key] = styleAttributes[key];\n",
              "  }\n",
              "  return element;\n",
              "}\n",
              "\n",
              "// Max number of bytes which will be uploaded at a time.\n",
              "const MAX_PAYLOAD_SIZE = 100 * 1024;\n",
              "\n",
              "function _uploadFiles(inputId, outputId) {\n",
              "  const steps = uploadFilesStep(inputId, outputId);\n",
              "  const outputElement = document.getElementById(outputId);\n",
              "  // Cache steps on the outputElement to make it available for the next call\n",
              "  // to uploadFilesContinue from Python.\n",
              "  outputElement.steps = steps;\n",
              "\n",
              "  return _uploadFilesContinue(outputId);\n",
              "}\n",
              "\n",
              "// This is roughly an async generator (not supported in the browser yet),\n",
              "// where there are multiple asynchronous steps and the Python side is going\n",
              "// to poll for completion of each step.\n",
              "// This uses a Promise to block the python side on completion of each step,\n",
              "// then passes the result of the previous step as the input to the next step.\n",
              "function _uploadFilesContinue(outputId) {\n",
              "  const outputElement = document.getElementById(outputId);\n",
              "  const steps = outputElement.steps;\n",
              "\n",
              "  const next = steps.next(outputElement.lastPromiseValue);\n",
              "  return Promise.resolve(next.value.promise).then((value) => {\n",
              "    // Cache the last promise value to make it available to the next\n",
              "    // step of the generator.\n",
              "    outputElement.lastPromiseValue = value;\n",
              "    return next.value.response;\n",
              "  });\n",
              "}\n",
              "\n",
              "/**\n",
              " * Generator function which is called between each async step of the upload\n",
              " * process.\n",
              " * @param {string} inputId Element ID of the input file picker element.\n",
              " * @param {string} outputId Element ID of the output display.\n",
              " * @return {!Iterable<!Object>} Iterable of next steps.\n",
              " */\n",
              "function* uploadFilesStep(inputId, outputId) {\n",
              "  const inputElement = document.getElementById(inputId);\n",
              "  inputElement.disabled = false;\n",
              "\n",
              "  const outputElement = document.getElementById(outputId);\n",
              "  outputElement.innerHTML = '';\n",
              "\n",
              "  const pickedPromise = new Promise((resolve) => {\n",
              "    inputElement.addEventListener('change', (e) => {\n",
              "      resolve(e.target.files);\n",
              "    });\n",
              "  });\n",
              "\n",
              "  const cancel = document.createElement('button');\n",
              "  inputElement.parentElement.appendChild(cancel);\n",
              "  cancel.textContent = 'Cancel upload';\n",
              "  const cancelPromise = new Promise((resolve) => {\n",
              "    cancel.onclick = () => {\n",
              "      resolve(null);\n",
              "    };\n",
              "  });\n",
              "\n",
              "  // Wait for the user to pick the files.\n",
              "  const files = yield {\n",
              "    promise: Promise.race([pickedPromise, cancelPromise]),\n",
              "    response: {\n",
              "      action: 'starting',\n",
              "    }\n",
              "  };\n",
              "\n",
              "  cancel.remove();\n",
              "\n",
              "  // Disable the input element since further picks are not allowed.\n",
              "  inputElement.disabled = true;\n",
              "\n",
              "  if (!files) {\n",
              "    return {\n",
              "      response: {\n",
              "        action: 'complete',\n",
              "      }\n",
              "    };\n",
              "  }\n",
              "\n",
              "  for (const file of files) {\n",
              "    const li = document.createElement('li');\n",
              "    li.append(span(file.name, {fontWeight: 'bold'}));\n",
              "    li.append(span(\n",
              "        `(${file.type || 'n/a'}) - ${file.size} bytes, ` +\n",
              "        `last modified: ${\n",
              "            file.lastModifiedDate ? file.lastModifiedDate.toLocaleDateString() :\n",
              "                                    'n/a'} - `));\n",
              "    const percent = span('0% done');\n",
              "    li.appendChild(percent);\n",
              "\n",
              "    outputElement.appendChild(li);\n",
              "\n",
              "    const fileDataPromise = new Promise((resolve) => {\n",
              "      const reader = new FileReader();\n",
              "      reader.onload = (e) => {\n",
              "        resolve(e.target.result);\n",
              "      };\n",
              "      reader.readAsArrayBuffer(file);\n",
              "    });\n",
              "    // Wait for the data to be ready.\n",
              "    let fileData = yield {\n",
              "      promise: fileDataPromise,\n",
              "      response: {\n",
              "        action: 'continue',\n",
              "      }\n",
              "    };\n",
              "\n",
              "    // Use a chunked sending to avoid message size limits. See b/62115660.\n",
              "    let position = 0;\n",
              "    do {\n",
              "      const length = Math.min(fileData.byteLength - position, MAX_PAYLOAD_SIZE);\n",
              "      const chunk = new Uint8Array(fileData, position, length);\n",
              "      position += length;\n",
              "\n",
              "      const base64 = btoa(String.fromCharCode.apply(null, chunk));\n",
              "      yield {\n",
              "        response: {\n",
              "          action: 'append',\n",
              "          file: file.name,\n",
              "          data: base64,\n",
              "        },\n",
              "      };\n",
              "\n",
              "      let percentDone = fileData.byteLength === 0 ?\n",
              "          100 :\n",
              "          Math.round((position / fileData.byteLength) * 100);\n",
              "      percent.textContent = `${percentDone}% done`;\n",
              "\n",
              "    } while (position < fileData.byteLength);\n",
              "  }\n",
              "\n",
              "  // All done.\n",
              "  yield {\n",
              "    response: {\n",
              "      action: 'complete',\n",
              "    }\n",
              "  };\n",
              "}\n",
              "\n",
              "scope.google = scope.google || {};\n",
              "scope.google.colab = scope.google.colab || {};\n",
              "scope.google.colab._files = {\n",
              "  _uploadFiles,\n",
              "  _uploadFilesContinue,\n",
              "};\n",
              "})(self);\n",
              "</script> "
            ]
          },
          "metadata": {}
        },
        {
          "output_type": "stream",
          "name": "stdout",
          "text": [
            "Saving hhd.zip to hhd.zip\n"
          ]
        }
      ],
      "source": [
        "from google.colab import files\n",
        "files.upload()  # Upload hhd.zip\n",
        "\n",
        "import zipfile\n",
        "\n",
        "os.makedirs(\"hhd_dataset\", exist_ok=True)\n",
        "\n",
        "with zipfile.ZipFile(\"hhd.zip\", 'r') as zip_ref:\n",
        "    zip_ref.extractall(\"hhd_dataset\")\n",
        "\n",
        "def load_dataset(base_dir):\n",
        "    X, y = load_dataset(\"hhd_dataset\")\n",
        "    for label in range(27):\n",
        "        folder = os.path.join(base_dir, str(label))\n",
        "        if not os.path.exists(folder): continue\n",
        "        for fname in os.listdir(folder):\n",
        "            img_path = os.path.join(folder, fname)\n",
        "            img = preprocess_image(img_path)\n",
        "            if img is not None:\n",
        "                X.append(img.reshape(32, 32, 1))\n",
        "                y.append(label)\n",
        "    return np.array(X), np.array(y)"
      ]
    },
    {
      "cell_type": "code",
      "source": [
        "for label in range(27):\n",
        "    folder = os.path.join(\"hhd_dataset\", str(label))\n",
        "    for fname in os.listdir(folder):\n",
        "        print(f\"{label}/{fname}\")\n",
        "        break  # show just the first file in each folder\n"
      ],
      "metadata": {
        "colab": {
          "base_uri": "https://localhost:8080/"
        },
        "id": "ZmOSnI69nZzc",
        "outputId": "478e69c7-ee02-4867-cc0a-1032e63c52a6"
      },
      "id": "ZmOSnI69nZzc",
      "execution_count": 9,
      "outputs": [
        {
          "output_type": "stream",
          "name": "stdout",
          "text": [
            "0/0_105.png\n",
            "1/1_7.png\n",
            "2/2_130.png\n",
            "3/3_55.png\n",
            "4/4_195.png\n",
            "5/5_89.png\n",
            "6/6_200.png\n",
            "7/7_205.png\n",
            "8/8_79.png\n",
            "9/9_45.png\n",
            "10/10_201.png\n",
            "11/11_26.png\n",
            "12/12_2.png\n",
            "13/13_3.png\n",
            "14/14_13.png\n",
            "15/15_72.png\n",
            "16/16_100.png\n",
            "17/17_104.png\n",
            "18/18_107.png\n",
            "19/19_3.png\n",
            "20/20_80.png\n",
            "21/21_75.png\n",
            "22/22_180.png\n",
            "23/23_59.png\n",
            "24/24_199.png\n",
            "25/25_105.png\n",
            "26/26_188.png\n"
          ]
        }
      ]
    },
    {
      "cell_type": "markdown",
      "id": "96d9afbd",
      "metadata": {
        "id": "96d9afbd"
      },
      "source": [
        "## 🔀 4. Load and Split Dataset"
      ]
    },
    {
      "cell_type": "code",
      "execution_count": 5,
      "id": "cc918cfa",
      "metadata": {
        "id": "cc918cfa"
      },
      "outputs": [],
      "source": [
        "import shutil\n",
        "from sklearn.model_selection import train_test_split\n",
        "\n",
        "image_paths = []\n",
        "labels = []\n",
        "\n",
        "# Collect image paths and labels\n",
        "for label in range(27):\n",
        "    class_dir = os.path.join(\"hhd_dataset\", str(label))\n",
        "    if not os.path.exists(class_dir):\n",
        "        continue\n",
        "    for fname in os.listdir(class_dir):\n",
        "        if fname.endswith(('.png', '.jpg', '.jpeg')):\n",
        "            image_paths.append(os.path.join(class_dir, fname))\n",
        "            labels.append(label)\n",
        "\n",
        "# Split\n",
        "X_temp, X_test, y_temp, y_test = train_test_split(image_paths, labels, test_size=0.1, stratify=labels, random_state=42)\n",
        "X_train, X_val, y_train, y_val = train_test_split(X_temp, y_temp, test_size=0.1111, stratify=y_temp, random_state=42)\n",
        "\n",
        "# Define save function\n",
        "def save_split(X, y, folder):\n",
        "    for path, label in zip(X, y):\n",
        "        out_dir = os.path.join(\"processed_hhd\", folder, str(label))\n",
        "        os.makedirs(out_dir, exist_ok=True)\n",
        "        shutil.copy(path, os.path.join(out_dir, os.path.basename(path)))\n",
        "\n",
        "# Save to folders\n",
        "save_split(X_train, y_train, \"train\")\n",
        "save_split(X_val, y_val, \"val\")\n",
        "save_split(X_test, y_test, \"test\")\n",
        "\n",
        "# Define load dataset function\n",
        "def load_dataset(base_dir):\n",
        "    X, y = [], []\n",
        "    for label in range(27):\n",
        "        folder = os.path.join(base_dir, str(label))\n",
        "        if not os.path.exists(folder):\n",
        "            continue\n",
        "        for fname in os.listdir(folder):\n",
        "            img_path = os.path.join(folder, fname)\n",
        "            img = preprocess_image(img_path)\n",
        "            if img is not None:\n",
        "                X.append(img.reshape(32, 32, 1))\n",
        "                y.append(label)\n",
        "    return np.array(X), np.array(y)\n",
        "\n",
        "# Load images for CNN\n",
        "X_train, y_train = load_dataset(\"processed_hhd/train\")\n",
        "X_val, y_val     = load_dataset(\"processed_hhd/val\")\n",
        "X_test, y_test   = load_dataset(\"processed_hhd/test\")"
      ]
    },
    {
      "cell_type": "markdown",
      "id": "f23bfafc",
      "metadata": {
        "id": "f23bfafc"
      },
      "source": [
        "## 🧠 5. CNN Model Architecture\n",
        "Here we define a deep convolutional neural network with three repeated blocks, followed by dense layers."
      ]
    },
    {
      "cell_type": "code",
      "execution_count": 6,
      "id": "4e8f35d2",
      "metadata": {
        "id": "4e8f35d2"
      },
      "outputs": [],
      "source": [
        "def build_cnn():\n",
        "    model = Sequential()\n",
        "    for filters in [32, 64, 128]:\n",
        "        model.add(Conv2D(filters, (3, 3), activation='relu', padding='same'))\n",
        "        model.add(Conv2D(filters, (3, 3), activation='relu', padding='same'))\n",
        "        model.add(MaxPooling2D(pool_size=(2, 2)))\n",
        "        model.add(Dropout(0.25))\n",
        "    model.add(Flatten())\n",
        "    model.add(Dense(512, activation='relu'))\n",
        "    model.add(Dropout(0.5))\n",
        "    model.add(Dense(27, activation='softmax'))\n",
        "    model.compile(optimizer='adam', loss='sparse_categorical_crossentropy', metrics=['accuracy'])\n",
        "    return model"
      ]
    },
    {
      "cell_type": "markdown",
      "id": "d4b2b620",
      "metadata": {
        "id": "d4b2b620"
      },
      "source": [
        "## 🚂 6. Train CNN (No Augmentation)\n",
        "Train the model on the dataset without any artificial modifications to the training images."
      ]
    },
    {
      "cell_type": "code",
      "execution_count": 7,
      "id": "c251aa93",
      "metadata": {
        "colab": {
          "base_uri": "https://localhost:8080/"
        },
        "id": "c251aa93",
        "outputId": "b294369a-cdf1-4cbc-c893-04213d9bca0f"
      },
      "outputs": [
        {
          "output_type": "stream",
          "name": "stdout",
          "text": [
            "Epoch 1/50\n",
            "\u001b[1m127/127\u001b[0m \u001b[32m━━━━━━━━━━━━━━━━━━━━\u001b[0m\u001b[37m\u001b[0m \u001b[1m36s\u001b[0m 254ms/step - accuracy: 0.2004 - loss: 2.7911 - val_accuracy: 0.7016 - val_loss: 1.0549\n",
            "Epoch 2/50\n",
            "\u001b[1m127/127\u001b[0m \u001b[32m━━━━━━━━━━━━━━━━━━━━\u001b[0m\u001b[37m\u001b[0m \u001b[1m31s\u001b[0m 242ms/step - accuracy: 0.6582 - loss: 1.1551 - val_accuracy: 0.7648 - val_loss: 0.8002\n",
            "Epoch 3/50\n",
            "\u001b[1m127/127\u001b[0m \u001b[32m━━━━━━━━━━━━━━━━━━━━\u001b[0m\u001b[37m\u001b[0m \u001b[1m41s\u001b[0m 244ms/step - accuracy: 0.7619 - loss: 0.7717 - val_accuracy: 0.8202 - val_loss: 0.6479\n",
            "Epoch 4/50\n",
            "\u001b[1m127/127\u001b[0m \u001b[32m━━━━━━━━━━━━━━━━━━━━\u001b[0m\u001b[37m\u001b[0m \u001b[1m42s\u001b[0m 254ms/step - accuracy: 0.8027 - loss: 0.6600 - val_accuracy: 0.8241 - val_loss: 0.6183\n",
            "Epoch 5/50\n",
            "\u001b[1m127/127\u001b[0m \u001b[32m━━━━━━━━━━━━━━━━━━━━\u001b[0m\u001b[37m\u001b[0m \u001b[1m41s\u001b[0m 255ms/step - accuracy: 0.8337 - loss: 0.5576 - val_accuracy: 0.8142 - val_loss: 0.6288\n",
            "Epoch 6/50\n",
            "\u001b[1m127/127\u001b[0m \u001b[32m━━━━━━━━━━━━━━━━━━━━\u001b[0m\u001b[37m\u001b[0m \u001b[1m41s\u001b[0m 252ms/step - accuracy: 0.8550 - loss: 0.4720 - val_accuracy: 0.8123 - val_loss: 0.6106\n",
            "Epoch 7/50\n",
            "\u001b[1m127/127\u001b[0m \u001b[32m━━━━━━━━━━━━━━━━━━━━\u001b[0m\u001b[37m\u001b[0m \u001b[1m40s\u001b[0m 241ms/step - accuracy: 0.8664 - loss: 0.4509 - val_accuracy: 0.8340 - val_loss: 0.5782\n",
            "Epoch 8/50\n",
            "\u001b[1m127/127\u001b[0m \u001b[32m━━━━━━━━━━━━━━━━━━━━\u001b[0m\u001b[37m\u001b[0m \u001b[1m31s\u001b[0m 244ms/step - accuracy: 0.8866 - loss: 0.3906 - val_accuracy: 0.8439 - val_loss: 0.5662\n",
            "Epoch 9/50\n",
            "\u001b[1m127/127\u001b[0m \u001b[32m━━━━━━━━━━━━━━━━━━━━\u001b[0m\u001b[37m\u001b[0m \u001b[1m42s\u001b[0m 253ms/step - accuracy: 0.8952 - loss: 0.3432 - val_accuracy: 0.8320 - val_loss: 0.6029\n",
            "Epoch 10/50\n",
            "\u001b[1m127/127\u001b[0m \u001b[32m━━━━━━━━━━━━━━━━━━━━\u001b[0m\u001b[37m\u001b[0m \u001b[1m44s\u001b[0m 276ms/step - accuracy: 0.8959 - loss: 0.3228 - val_accuracy: 0.8439 - val_loss: 0.5690\n",
            "Epoch 11/50\n",
            "\u001b[1m127/127\u001b[0m \u001b[32m━━━━━━━━━━━━━━━━━━━━\u001b[0m\u001b[37m\u001b[0m \u001b[1m38s\u001b[0m 251ms/step - accuracy: 0.9172 - loss: 0.2651 - val_accuracy: 0.8320 - val_loss: 0.6416\n",
            "Epoch 12/50\n",
            "\u001b[1m127/127\u001b[0m \u001b[32m━━━━━━━━━━━━━━━━━━━━\u001b[0m\u001b[37m\u001b[0m \u001b[1m30s\u001b[0m 238ms/step - accuracy: 0.9109 - loss: 0.2736 - val_accuracy: 0.8478 - val_loss: 0.6031\n",
            "Epoch 13/50\n",
            "\u001b[1m127/127\u001b[0m \u001b[32m━━━━━━━━━━━━━━━━━━━━\u001b[0m\u001b[37m\u001b[0m \u001b[1m41s\u001b[0m 239ms/step - accuracy: 0.9266 - loss: 0.2253 - val_accuracy: 0.8399 - val_loss: 0.6353\n",
            "Epoch 14/50\n",
            "\u001b[1m127/127\u001b[0m \u001b[32m━━━━━━━━━━━━━━━━━━━━\u001b[0m\u001b[37m\u001b[0m \u001b[1m42s\u001b[0m 250ms/step - accuracy: 0.9203 - loss: 0.2340 - val_accuracy: 0.8419 - val_loss: 0.7316\n",
            "Epoch 15/50\n",
            "\u001b[1m127/127\u001b[0m \u001b[32m━━━━━━━━━━━━━━━━━━━━\u001b[0m\u001b[37m\u001b[0m \u001b[1m31s\u001b[0m 240ms/step - accuracy: 0.9298 - loss: 0.1951 - val_accuracy: 0.8439 - val_loss: 0.7067\n",
            "Epoch 16/50\n",
            "\u001b[1m127/127\u001b[0m \u001b[32m━━━━━━━━━━━━━━━━━━━━\u001b[0m\u001b[37m\u001b[0m \u001b[1m31s\u001b[0m 241ms/step - accuracy: 0.9327 - loss: 0.1887 - val_accuracy: 0.8399 - val_loss: 0.5964\n",
            "Epoch 17/50\n",
            "\u001b[1m127/127\u001b[0m \u001b[32m━━━━━━━━━━━━━━━━━━━━\u001b[0m\u001b[37m\u001b[0m \u001b[1m31s\u001b[0m 242ms/step - accuracy: 0.9474 - loss: 0.1584 - val_accuracy: 0.8458 - val_loss: 0.6756\n",
            "Epoch 18/50\n",
            "\u001b[1m127/127\u001b[0m \u001b[32m━━━━━━━━━━━━━━━━━━━━\u001b[0m\u001b[37m\u001b[0m \u001b[1m41s\u001b[0m 240ms/step - accuracy: 0.9443 - loss: 0.1760 - val_accuracy: 0.8538 - val_loss: 0.8635\n",
            "Epoch 19/50\n",
            "\u001b[1m127/127\u001b[0m \u001b[32m━━━━━━━━━━━━━━━━━━━━\u001b[0m\u001b[37m\u001b[0m \u001b[1m31s\u001b[0m 241ms/step - accuracy: 0.9434 - loss: 0.1657 - val_accuracy: 0.8439 - val_loss: 0.7244\n",
            "Epoch 20/50\n",
            "\u001b[1m127/127\u001b[0m \u001b[32m━━━━━━━━━━━━━━━━━━━━\u001b[0m\u001b[37m\u001b[0m \u001b[1m42s\u001b[0m 249ms/step - accuracy: 0.9457 - loss: 0.1486 - val_accuracy: 0.8439 - val_loss: 0.8090\n",
            "Epoch 21/50\n",
            "\u001b[1m127/127\u001b[0m \u001b[32m━━━━━━━━━━━━━━━━━━━━\u001b[0m\u001b[37m\u001b[0m \u001b[1m40s\u001b[0m 238ms/step - accuracy: 0.9484 - loss: 0.1553 - val_accuracy: 0.8379 - val_loss: 0.7880\n",
            "Epoch 22/50\n",
            "\u001b[1m127/127\u001b[0m \u001b[32m━━━━━━━━━━━━━━━━━━━━\u001b[0m\u001b[37m\u001b[0m \u001b[1m41s\u001b[0m 237ms/step - accuracy: 0.9538 - loss: 0.1212 - val_accuracy: 0.8419 - val_loss: 0.8167\n",
            "Epoch 23/50\n",
            "\u001b[1m127/127\u001b[0m \u001b[32m━━━━━━━━━━━━━━━━━━━━\u001b[0m\u001b[37m\u001b[0m \u001b[1m32s\u001b[0m 255ms/step - accuracy: 0.9511 - loss: 0.1359 - val_accuracy: 0.8557 - val_loss: 0.7334\n",
            "Epoch 24/50\n",
            "\u001b[1m127/127\u001b[0m \u001b[32m━━━━━━━━━━━━━━━━━━━━\u001b[0m\u001b[37m\u001b[0m \u001b[1m40s\u001b[0m 250ms/step - accuracy: 0.9571 - loss: 0.1249 - val_accuracy: 0.8518 - val_loss: 0.7862\n",
            "Epoch 25/50\n",
            "\u001b[1m127/127\u001b[0m \u001b[32m━━━━━━━━━━━━━━━━━━━━\u001b[0m\u001b[37m\u001b[0m \u001b[1m30s\u001b[0m 238ms/step - accuracy: 0.9611 - loss: 0.1189 - val_accuracy: 0.8478 - val_loss: 0.9248\n",
            "Epoch 26/50\n",
            "\u001b[1m127/127\u001b[0m \u001b[32m━━━━━━━━━━━━━━━━━━━━\u001b[0m\u001b[37m\u001b[0m \u001b[1m41s\u001b[0m 241ms/step - accuracy: 0.9611 - loss: 0.1057 - val_accuracy: 0.8439 - val_loss: 0.9814\n",
            "Epoch 27/50\n",
            "\u001b[1m127/127\u001b[0m \u001b[32m━━━━━━━━━━━━━━━━━━━━\u001b[0m\u001b[37m\u001b[0m \u001b[1m42s\u001b[0m 250ms/step - accuracy: 0.9557 - loss: 0.1178 - val_accuracy: 0.8478 - val_loss: 0.8581\n",
            "Epoch 28/50\n",
            "\u001b[1m127/127\u001b[0m \u001b[32m━━━━━━━━━━━━━━━━━━━━\u001b[0m\u001b[37m\u001b[0m \u001b[1m40s\u001b[0m 240ms/step - accuracy: 0.9549 - loss: 0.1359 - val_accuracy: 0.8478 - val_loss: 0.8988\n",
            "Epoch 29/50\n",
            "\u001b[1m127/127\u001b[0m \u001b[32m━━━━━━━━━━━━━━━━━━━━\u001b[0m\u001b[37m\u001b[0m \u001b[1m41s\u001b[0m 242ms/step - accuracy: 0.9708 - loss: 0.1014 - val_accuracy: 0.8360 - val_loss: 0.9817\n",
            "Epoch 30/50\n",
            "\u001b[1m127/127\u001b[0m \u001b[32m━━━━━━━━━━━━━━━━━━━━\u001b[0m\u001b[37m\u001b[0m \u001b[1m42s\u001b[0m 252ms/step - accuracy: 0.9628 - loss: 0.1032 - val_accuracy: 0.8340 - val_loss: 0.7993\n",
            "Epoch 31/50\n",
            "\u001b[1m127/127\u001b[0m \u001b[32m━━━━━━━━━━━━━━━━━━━━\u001b[0m\u001b[37m\u001b[0m \u001b[1m41s\u001b[0m 250ms/step - accuracy: 0.9632 - loss: 0.1096 - val_accuracy: 0.8478 - val_loss: 0.9932\n",
            "Epoch 32/50\n",
            "\u001b[1m127/127\u001b[0m \u001b[32m━━━━━━━━━━━━━━━━━━━━\u001b[0m\u001b[37m\u001b[0m \u001b[1m40s\u001b[0m 243ms/step - accuracy: 0.9766 - loss: 0.0787 - val_accuracy: 0.8498 - val_loss: 0.9612\n",
            "Epoch 33/50\n",
            "\u001b[1m127/127\u001b[0m \u001b[32m━━━━━━━━━━━━━━━━━━━━\u001b[0m\u001b[37m\u001b[0m \u001b[1m40s\u001b[0m 241ms/step - accuracy: 0.9645 - loss: 0.1097 - val_accuracy: 0.8538 - val_loss: 1.0515\n",
            "Epoch 34/50\n",
            "\u001b[1m127/127\u001b[0m \u001b[32m━━━━━━━━━━━━━━━━━━━━\u001b[0m\u001b[37m\u001b[0m \u001b[1m41s\u001b[0m 240ms/step - accuracy: 0.9793 - loss: 0.0688 - val_accuracy: 0.8399 - val_loss: 0.8946\n",
            "Epoch 35/50\n",
            "\u001b[1m127/127\u001b[0m \u001b[32m━━━━━━━━━━━━━━━━━━━━\u001b[0m\u001b[37m\u001b[0m \u001b[1m42s\u001b[0m 250ms/step - accuracy: 0.9696 - loss: 0.0870 - val_accuracy: 0.8458 - val_loss: 0.8983\n",
            "Epoch 36/50\n",
            "\u001b[1m127/127\u001b[0m \u001b[32m━━━━━━━━━━━━━━━━━━━━\u001b[0m\u001b[37m\u001b[0m \u001b[1m40s\u001b[0m 241ms/step - accuracy: 0.9742 - loss: 0.0653 - val_accuracy: 0.8360 - val_loss: 0.9877\n",
            "Epoch 37/50\n",
            "\u001b[1m127/127\u001b[0m \u001b[32m━━━━━━━━━━━━━━━━━━━━\u001b[0m\u001b[37m\u001b[0m \u001b[1m41s\u001b[0m 243ms/step - accuracy: 0.9700 - loss: 0.0831 - val_accuracy: 0.8458 - val_loss: 0.8239\n",
            "Epoch 38/50\n",
            "\u001b[1m127/127\u001b[0m \u001b[32m━━━━━━━━━━━━━━━━━━━━\u001b[0m\u001b[37m\u001b[0m \u001b[1m42s\u001b[0m 251ms/step - accuracy: 0.9709 - loss: 0.0922 - val_accuracy: 0.8538 - val_loss: 0.8708\n",
            "Epoch 39/50\n",
            "\u001b[1m127/127\u001b[0m \u001b[32m━━━━━━━━━━━━━━━━━━━━\u001b[0m\u001b[37m\u001b[0m \u001b[1m40s\u001b[0m 247ms/step - accuracy: 0.9818 - loss: 0.0568 - val_accuracy: 0.8419 - val_loss: 0.9876\n",
            "Epoch 40/50\n",
            "\u001b[1m127/127\u001b[0m \u001b[32m━━━━━━━━━━━━━━━━━━━━\u001b[0m\u001b[37m\u001b[0m \u001b[1m40s\u001b[0m 237ms/step - accuracy: 0.9751 - loss: 0.0808 - val_accuracy: 0.8340 - val_loss: 0.9348\n",
            "Epoch 41/50\n",
            "\u001b[1m127/127\u001b[0m \u001b[32m━━━━━━━━━━━━━━━━━━━━\u001b[0m\u001b[37m\u001b[0m \u001b[1m41s\u001b[0m 240ms/step - accuracy: 0.9744 - loss: 0.0768 - val_accuracy: 0.8360 - val_loss: 0.8736\n",
            "Epoch 42/50\n",
            "\u001b[1m127/127\u001b[0m \u001b[32m━━━━━━━━━━━━━━━━━━━━\u001b[0m\u001b[37m\u001b[0m \u001b[1m43s\u001b[0m 255ms/step - accuracy: 0.9734 - loss: 0.0790 - val_accuracy: 0.8518 - val_loss: 0.9204\n",
            "Epoch 43/50\n",
            "\u001b[1m127/127\u001b[0m \u001b[32m━━━━━━━━━━━━━━━━━━━━\u001b[0m\u001b[37m\u001b[0m \u001b[1m40s\u001b[0m 250ms/step - accuracy: 0.9673 - loss: 0.0844 - val_accuracy: 0.8458 - val_loss: 0.9956\n",
            "Epoch 44/50\n",
            "\u001b[1m127/127\u001b[0m \u001b[32m━━━━━━━━━━━━━━━━━━━━\u001b[0m\u001b[37m\u001b[0m \u001b[1m30s\u001b[0m 240ms/step - accuracy: 0.9671 - loss: 0.0903 - val_accuracy: 0.8439 - val_loss: 1.1580\n",
            "Epoch 45/50\n",
            "\u001b[1m127/127\u001b[0m \u001b[32m━━━━━━━━━━━━━━━━━━━━\u001b[0m\u001b[37m\u001b[0m \u001b[1m32s\u001b[0m 251ms/step - accuracy: 0.9690 - loss: 0.0958 - val_accuracy: 0.8518 - val_loss: 0.9316\n",
            "Epoch 46/50\n",
            "\u001b[1m127/127\u001b[0m \u001b[32m━━━━━━━━━━━━━━━━━━━━\u001b[0m\u001b[37m\u001b[0m \u001b[1m41s\u001b[0m 250ms/step - accuracy: 0.9825 - loss: 0.0489 - val_accuracy: 0.8399 - val_loss: 0.9681\n",
            "Epoch 47/50\n",
            "\u001b[1m127/127\u001b[0m \u001b[32m━━━━━━━━━━━━━━━━━━━━\u001b[0m\u001b[37m\u001b[0m \u001b[1m40s\u001b[0m 241ms/step - accuracy: 0.9784 - loss: 0.0661 - val_accuracy: 0.8577 - val_loss: 0.9487\n",
            "Epoch 48/50\n",
            "\u001b[1m127/127\u001b[0m \u001b[32m━━━━━━━━━━━━━━━━━━━━\u001b[0m\u001b[37m\u001b[0m \u001b[1m41s\u001b[0m 237ms/step - accuracy: 0.9773 - loss: 0.0770 - val_accuracy: 0.8557 - val_loss: 0.9774\n",
            "Epoch 49/50\n",
            "\u001b[1m127/127\u001b[0m \u001b[32m━━━━━━━━━━━━━━━━━━━━\u001b[0m\u001b[37m\u001b[0m \u001b[1m32s\u001b[0m 256ms/step - accuracy: 0.9774 - loss: 0.0641 - val_accuracy: 0.8399 - val_loss: 0.9028\n",
            "Epoch 50/50\n",
            "\u001b[1m127/127\u001b[0m \u001b[32m━━━━━━━━━━━━━━━━━━━━\u001b[0m\u001b[37m\u001b[0m \u001b[1m40s\u001b[0m 250ms/step - accuracy: 0.9795 - loss: 0.0632 - val_accuracy: 0.8478 - val_loss: 1.0184\n"
          ]
        }
      ],
      "source": [
        "model = build_cnn()\n",
        "history = model.fit(X_train, y_train, epochs=50, batch_size=32, validation_data=(X_val, y_val))"
      ]
    },
    {
      "cell_type": "markdown",
      "id": "9001d993",
      "metadata": {
        "id": "9001d993"
      },
      "source": [
        "## 🚀 7. Train CNN (With Augmentation)\n",
        "Train the CNN model using image data augmentation to improve generalization and robustness.\n",
        "\n",
        "The following augmentations are applied using ImageDataGenerator from Keras:\n",
        "*   Width shift (width_shift_range=0.1): Randomly shifts the image horizontally by up to 10% of the width.\n",
        "\n",
        "*   Height shift (height_shift_range=0.1): Randomly shifts the image vertically by up to 10% of the height.\n",
        "\n",
        "*   Rotation (rotation_range=5): Randomly rotates the image by up to ±10 degrees.\n",
        "\n",
        "*   Shear (shear_range=0.1): Applies random shear transformations (distorting image diagonally).\n",
        "\n",
        "*   Brightness adjustment (brightness_range=(0.8, 1.2)): Randomly adjusts the brightness of the image to simulate different lighting conditions.\n",
        "\n",
        "These augmentations are applied on-the-fly during training, so each epoch sees slightly different versions of the same input data. This helps the model generalize better to new, unseen handwriting styles.\n",
        "\n"
      ]
    },
    {
      "cell_type": "code",
      "execution_count": 17,
      "id": "50de2f50",
      "metadata": {
        "colab": {
          "base_uri": "https://localhost:8080/"
        },
        "id": "50de2f50",
        "outputId": "7e21294e-79f4-4b88-f4b4-662ac5ca5fe6"
      },
      "outputs": [
        {
          "output_type": "stream",
          "name": "stdout",
          "text": [
            "Epoch 1/50\n",
            "\u001b[1m127/127\u001b[0m \u001b[32m━━━━━━━━━━━━━━━━━━━━\u001b[0m\u001b[37m\u001b[0m \u001b[1m39s\u001b[0m 266ms/step - accuracy: 0.0388 - loss: 3.2959 - val_accuracy: 0.0395 - val_loss: 3.2966\n",
            "Epoch 2/50\n",
            "\u001b[1m127/127\u001b[0m \u001b[32m━━━━━━━━━━━━━━━━━━━━\u001b[0m\u001b[37m\u001b[0m \u001b[1m35s\u001b[0m 273ms/step - accuracy: 0.0352 - loss: 3.2971 - val_accuracy: 0.0415 - val_loss: 3.2939\n",
            "Epoch 3/50\n",
            "\u001b[1m127/127\u001b[0m \u001b[32m━━━━━━━━━━━━━━━━━━━━\u001b[0m\u001b[37m\u001b[0m \u001b[1m35s\u001b[0m 274ms/step - accuracy: 0.0383 - loss: 3.2943 - val_accuracy: 0.0415 - val_loss: 3.2935\n",
            "Epoch 4/50\n",
            "\u001b[1m127/127\u001b[0m \u001b[32m━━━━━━━━━━━━━━━━━━━━\u001b[0m\u001b[37m\u001b[0m \u001b[1m35s\u001b[0m 275ms/step - accuracy: 0.0326 - loss: 3.2949 - val_accuracy: 0.0415 - val_loss: 3.2932\n",
            "Epoch 5/50\n",
            "\u001b[1m127/127\u001b[0m \u001b[32m━━━━━━━━━━━━━━━━━━━━\u001b[0m\u001b[37m\u001b[0m \u001b[1m33s\u001b[0m 259ms/step - accuracy: 0.0409 - loss: 3.2947 - val_accuracy: 0.0415 - val_loss: 3.2931\n",
            "Epoch 6/50\n",
            "\u001b[1m127/127\u001b[0m \u001b[32m━━━━━━━━━━━━━━━━━━━━\u001b[0m\u001b[37m\u001b[0m \u001b[1m34s\u001b[0m 267ms/step - accuracy: 0.0408 - loss: 3.2949 - val_accuracy: 0.0415 - val_loss: 3.2931\n",
            "Epoch 7/50\n",
            "\u001b[1m127/127\u001b[0m \u001b[32m━━━━━━━━━━━━━━━━━━━━\u001b[0m\u001b[37m\u001b[0m \u001b[1m41s\u001b[0m 268ms/step - accuracy: 0.0432 - loss: 3.2926 - val_accuracy: 0.0415 - val_loss: 3.2930\n",
            "Epoch 8/50\n",
            "\u001b[1m127/127\u001b[0m \u001b[32m━━━━━━━━━━━━━━━━━━━━\u001b[0m\u001b[37m\u001b[0m \u001b[1m33s\u001b[0m 263ms/step - accuracy: 0.0376 - loss: 3.2946 - val_accuracy: 0.0415 - val_loss: 3.2930\n",
            "Epoch 9/50\n",
            "\u001b[1m127/127\u001b[0m \u001b[32m━━━━━━━━━━━━━━━━━━━━\u001b[0m\u001b[37m\u001b[0m \u001b[1m36s\u001b[0m 282ms/step - accuracy: 0.0439 - loss: 3.2940 - val_accuracy: 0.0415 - val_loss: 3.2930\n",
            "Epoch 10/50\n",
            "\u001b[1m127/127\u001b[0m \u001b[32m━━━━━━━━━━━━━━━━━━━━\u001b[0m\u001b[37m\u001b[0m \u001b[1m36s\u001b[0m 282ms/step - accuracy: 0.0387 - loss: 3.2919 - val_accuracy: 0.0415 - val_loss: 3.2930\n",
            "Epoch 11/50\n",
            "\u001b[1m127/127\u001b[0m \u001b[32m━━━━━━━━━━━━━━━━━━━━\u001b[0m\u001b[37m\u001b[0m \u001b[1m34s\u001b[0m 265ms/step - accuracy: 0.0389 - loss: 3.2933 - val_accuracy: 0.0415 - val_loss: 3.2930\n",
            "Epoch 12/50\n",
            "\u001b[1m127/127\u001b[0m \u001b[32m━━━━━━━━━━━━━━━━━━━━\u001b[0m\u001b[37m\u001b[0m \u001b[1m34s\u001b[0m 271ms/step - accuracy: 0.0427 - loss: 3.2922 - val_accuracy: 0.0415 - val_loss: 3.2930\n",
            "Epoch 13/50\n",
            "\u001b[1m127/127\u001b[0m \u001b[32m━━━━━━━━━━━━━━━━━━━━\u001b[0m\u001b[37m\u001b[0m \u001b[1m42s\u001b[0m 277ms/step - accuracy: 0.0360 - loss: 3.2946 - val_accuracy: 0.0415 - val_loss: 3.2930\n",
            "Epoch 14/50\n",
            "\u001b[1m127/127\u001b[0m \u001b[32m━━━━━━━━━━━━━━━━━━━━\u001b[0m\u001b[37m\u001b[0m \u001b[1m33s\u001b[0m 258ms/step - accuracy: 0.0453 - loss: 3.2941 - val_accuracy: 0.0415 - val_loss: 3.2930\n",
            "Epoch 15/50\n",
            "\u001b[1m127/127\u001b[0m \u001b[32m━━━━━━━━━━━━━━━━━━━━\u001b[0m\u001b[37m\u001b[0m \u001b[1m36s\u001b[0m 283ms/step - accuracy: 0.0430 - loss: 3.2940 - val_accuracy: 0.0415 - val_loss: 3.2930\n",
            "Epoch 16/50\n",
            "\u001b[1m127/127\u001b[0m \u001b[32m━━━━━━━━━━━━━━━━━━━━\u001b[0m\u001b[37m\u001b[0m \u001b[1m33s\u001b[0m 261ms/step - accuracy: 0.0394 - loss: 3.2947 - val_accuracy: 0.0415 - val_loss: 3.2930\n",
            "Epoch 17/50\n",
            "\u001b[1m127/127\u001b[0m \u001b[32m━━━━━━━━━━━━━━━━━━━━\u001b[0m\u001b[37m\u001b[0m \u001b[1m35s\u001b[0m 277ms/step - accuracy: 0.0433 - loss: 3.2931 - val_accuracy: 0.0415 - val_loss: 3.2930\n",
            "Epoch 18/50\n",
            "\u001b[1m127/127\u001b[0m \u001b[32m━━━━━━━━━━━━━━━━━━━━\u001b[0m\u001b[37m\u001b[0m \u001b[1m33s\u001b[0m 263ms/step - accuracy: 0.0432 - loss: 3.2928 - val_accuracy: 0.0415 - val_loss: 3.2930\n",
            "Epoch 19/50\n",
            "\u001b[1m127/127\u001b[0m \u001b[32m━━━━━━━━━━━━━━━━━━━━\u001b[0m\u001b[37m\u001b[0m \u001b[1m34s\u001b[0m 263ms/step - accuracy: 0.0380 - loss: 3.2938 - val_accuracy: 0.0415 - val_loss: 3.2930\n",
            "Epoch 20/50\n",
            "\u001b[1m127/127\u001b[0m \u001b[32m━━━━━━━━━━━━━━━━━━━━\u001b[0m\u001b[37m\u001b[0m \u001b[1m40s\u001b[0m 258ms/step - accuracy: 0.0423 - loss: 3.2933 - val_accuracy: 0.0415 - val_loss: 3.2930\n",
            "Epoch 21/50\n",
            "\u001b[1m127/127\u001b[0m \u001b[32m━━━━━━━━━━━━━━━━━━━━\u001b[0m\u001b[37m\u001b[0m \u001b[1m36s\u001b[0m 280ms/step - accuracy: 0.0423 - loss: 3.2929 - val_accuracy: 0.0415 - val_loss: 3.2930\n",
            "Epoch 22/50\n",
            "\u001b[1m127/127\u001b[0m \u001b[32m━━━━━━━━━━━━━━━━━━━━\u001b[0m\u001b[37m\u001b[0m \u001b[1m33s\u001b[0m 261ms/step - accuracy: 0.0392 - loss: 3.2922 - val_accuracy: 0.0415 - val_loss: 3.2930\n",
            "Epoch 23/50\n",
            "\u001b[1m127/127\u001b[0m \u001b[32m━━━━━━━━━━━━━━━━━━━━\u001b[0m\u001b[37m\u001b[0m \u001b[1m35s\u001b[0m 273ms/step - accuracy: 0.0418 - loss: 3.2927 - val_accuracy: 0.0415 - val_loss: 3.2930\n",
            "Epoch 24/50\n",
            "\u001b[1m127/127\u001b[0m \u001b[32m━━━━━━━━━━━━━━━━━━━━\u001b[0m\u001b[37m\u001b[0m \u001b[1m33s\u001b[0m 259ms/step - accuracy: 0.0416 - loss: 3.2917 - val_accuracy: 0.0415 - val_loss: 3.2930\n",
            "Epoch 25/50\n",
            "\u001b[1m127/127\u001b[0m \u001b[32m━━━━━━━━━━━━━━━━━━━━\u001b[0m\u001b[37m\u001b[0m \u001b[1m42s\u001b[0m 264ms/step - accuracy: 0.0392 - loss: 3.2918 - val_accuracy: 0.0415 - val_loss: 3.2930\n",
            "Epoch 26/50\n",
            "\u001b[1m127/127\u001b[0m \u001b[32m━━━━━━━━━━━━━━━━━━━━\u001b[0m\u001b[37m\u001b[0m \u001b[1m35s\u001b[0m 272ms/step - accuracy: 0.0423 - loss: 3.2935 - val_accuracy: 0.0415 - val_loss: 3.2930\n",
            "Epoch 27/50\n",
            "\u001b[1m127/127\u001b[0m \u001b[32m━━━━━━━━━━━━━━━━━━━━\u001b[0m\u001b[37m\u001b[0m \u001b[1m35s\u001b[0m 278ms/step - accuracy: 0.0473 - loss: 3.2931 - val_accuracy: 0.0415 - val_loss: 3.2930\n",
            "Epoch 28/50\n",
            "\u001b[1m127/127\u001b[0m \u001b[32m━━━━━━━━━━━━━━━━━━━━\u001b[0m\u001b[37m\u001b[0m \u001b[1m40s\u001b[0m 272ms/step - accuracy: 0.0391 - loss: 3.2947 - val_accuracy: 0.0415 - val_loss: 3.2930\n",
            "Epoch 29/50\n",
            "\u001b[1m127/127\u001b[0m \u001b[32m━━━━━━━━━━━━━━━━━━━━\u001b[0m\u001b[37m\u001b[0m \u001b[1m33s\u001b[0m 260ms/step - accuracy: 0.0395 - loss: 3.2924 - val_accuracy: 0.0415 - val_loss: 3.2930\n",
            "Epoch 30/50\n",
            "\u001b[1m127/127\u001b[0m \u001b[32m━━━━━━━━━━━━━━━━━━━━\u001b[0m\u001b[37m\u001b[0m \u001b[1m34s\u001b[0m 269ms/step - accuracy: 0.0397 - loss: 3.2942 - val_accuracy: 0.0415 - val_loss: 3.2930\n",
            "Epoch 31/50\n",
            "\u001b[1m127/127\u001b[0m \u001b[32m━━━━━━━━━━━━━━━━━━━━\u001b[0m\u001b[37m\u001b[0m \u001b[1m33s\u001b[0m 262ms/step - accuracy: 0.0370 - loss: 3.2934 - val_accuracy: 0.0415 - val_loss: 3.2930\n",
            "Epoch 32/50\n",
            "\u001b[1m127/127\u001b[0m \u001b[32m━━━━━━━━━━━━━━━━━━━━\u001b[0m\u001b[37m\u001b[0m \u001b[1m40s\u001b[0m 258ms/step - accuracy: 0.0407 - loss: 3.2924 - val_accuracy: 0.0415 - val_loss: 3.2930\n",
            "Epoch 33/50\n",
            "\u001b[1m127/127\u001b[0m \u001b[32m━━━━━━━━━━━━━━━━━━━━\u001b[0m\u001b[37m\u001b[0m \u001b[1m44s\u001b[0m 283ms/step - accuracy: 0.0424 - loss: 3.2915 - val_accuracy: 0.0415 - val_loss: 3.2930\n",
            "Epoch 34/50\n",
            "\u001b[1m127/127\u001b[0m \u001b[32m━━━━━━━━━━━━━━━━━━━━\u001b[0m\u001b[37m\u001b[0m \u001b[1m33s\u001b[0m 262ms/step - accuracy: 0.0449 - loss: 3.2931 - val_accuracy: 0.0415 - val_loss: 3.2930\n",
            "Epoch 35/50\n",
            "\u001b[1m127/127\u001b[0m \u001b[32m━━━━━━━━━━━━━━━━━━━━\u001b[0m\u001b[37m\u001b[0m \u001b[1m35s\u001b[0m 278ms/step - accuracy: 0.0425 - loss: 3.2934 - val_accuracy: 0.0415 - val_loss: 3.2930\n",
            "Epoch 36/50\n",
            "\u001b[1m127/127\u001b[0m \u001b[32m━━━━━━━━━━━━━━━━━━━━\u001b[0m\u001b[37m\u001b[0m \u001b[1m33s\u001b[0m 260ms/step - accuracy: 0.0432 - loss: 3.2933 - val_accuracy: 0.0415 - val_loss: 3.2930\n",
            "Epoch 37/50\n",
            "\u001b[1m127/127\u001b[0m \u001b[32m━━━━━━━━━━━━━━━━━━━━\u001b[0m\u001b[37m\u001b[0m \u001b[1m43s\u001b[0m 275ms/step - accuracy: 0.0448 - loss: 3.2949 - val_accuracy: 0.0415 - val_loss: 3.2930\n",
            "Epoch 38/50\n",
            "\u001b[1m127/127\u001b[0m \u001b[32m━━━━━━━━━━━━━━━━━━━━\u001b[0m\u001b[37m\u001b[0m \u001b[1m34s\u001b[0m 264ms/step - accuracy: 0.0394 - loss: 3.2929 - val_accuracy: 0.0415 - val_loss: 3.2930\n",
            "Epoch 39/50\n",
            "\u001b[1m127/127\u001b[0m \u001b[32m━━━━━━━━━━━━━━━━━━━━\u001b[0m\u001b[37m\u001b[0m \u001b[1m37s\u001b[0m 291ms/step - accuracy: 0.0509 - loss: 3.2937 - val_accuracy: 0.0415 - val_loss: 3.2930\n",
            "Epoch 40/50\n",
            "\u001b[1m127/127\u001b[0m \u001b[32m━━━━━━━━━━━━━━━━━━━━\u001b[0m\u001b[37m\u001b[0m \u001b[1m34s\u001b[0m 264ms/step - accuracy: 0.0425 - loss: 3.2921 - val_accuracy: 0.0415 - val_loss: 3.2930\n",
            "Epoch 41/50\n",
            "\u001b[1m127/127\u001b[0m \u001b[32m━━━━━━━━━━━━━━━━━━━━\u001b[0m\u001b[37m\u001b[0m \u001b[1m35s\u001b[0m 277ms/step - accuracy: 0.0489 - loss: 3.2934 - val_accuracy: 0.0415 - val_loss: 3.2930\n",
            "Epoch 42/50\n",
            "\u001b[1m127/127\u001b[0m \u001b[32m━━━━━━━━━━━━━━━━━━━━\u001b[0m\u001b[37m\u001b[0m \u001b[1m33s\u001b[0m 264ms/step - accuracy: 0.0447 - loss: 3.2925 - val_accuracy: 0.0415 - val_loss: 3.2930\n",
            "Epoch 43/50\n",
            "\u001b[1m127/127\u001b[0m \u001b[32m━━━━━━━━━━━━━━━━━━━━\u001b[0m\u001b[37m\u001b[0m \u001b[1m35s\u001b[0m 274ms/step - accuracy: 0.0391 - loss: 3.2925 - val_accuracy: 0.0415 - val_loss: 3.2930\n",
            "Epoch 44/50\n",
            "\u001b[1m127/127\u001b[0m \u001b[32m━━━━━━━━━━━━━━━━━━━━\u001b[0m\u001b[37m\u001b[0m \u001b[1m34s\u001b[0m 265ms/step - accuracy: 0.0367 - loss: 3.2949 - val_accuracy: 0.0415 - val_loss: 3.2930\n",
            "Epoch 45/50\n",
            "\u001b[1m127/127\u001b[0m \u001b[32m━━━━━━━━━━━━━━━━━━━━\u001b[0m\u001b[37m\u001b[0m \u001b[1m43s\u001b[0m 282ms/step - accuracy: 0.0441 - loss: 3.2933 - val_accuracy: 0.0415 - val_loss: 3.2930\n",
            "Epoch 46/50\n",
            "\u001b[1m127/127\u001b[0m \u001b[32m━━━━━━━━━━━━━━━━━━━━\u001b[0m\u001b[37m\u001b[0m \u001b[1m40s\u001b[0m 276ms/step - accuracy: 0.0443 - loss: 3.2934 - val_accuracy: 0.0415 - val_loss: 3.2930\n",
            "Epoch 47/50\n",
            "\u001b[1m127/127\u001b[0m \u001b[32m━━━━━━━━━━━━━━━━━━━━\u001b[0m\u001b[37m\u001b[0m \u001b[1m33s\u001b[0m 261ms/step - accuracy: 0.0390 - loss: 3.2942 - val_accuracy: 0.0415 - val_loss: 3.2929\n",
            "Epoch 48/50\n",
            "\u001b[1m127/127\u001b[0m \u001b[32m━━━━━━━━━━━━━━━━━━━━\u001b[0m\u001b[37m\u001b[0m \u001b[1m35s\u001b[0m 274ms/step - accuracy: 0.0425 - loss: 3.2927 - val_accuracy: 0.0415 - val_loss: 3.2930\n",
            "Epoch 49/50\n",
            "\u001b[1m127/127\u001b[0m \u001b[32m━━━━━━━━━━━━━━━━━━━━\u001b[0m\u001b[37m\u001b[0m \u001b[1m33s\u001b[0m 259ms/step - accuracy: 0.0466 - loss: 3.2937 - val_accuracy: 0.0415 - val_loss: 3.2930\n",
            "Epoch 50/50\n",
            "\u001b[1m127/127\u001b[0m \u001b[32m━━━━━━━━━━━━━━━━━━━━\u001b[0m\u001b[37m\u001b[0m \u001b[1m41s\u001b[0m 263ms/step - accuracy: 0.0446 - loss: 3.2945 - val_accuracy: 0.0415 - val_loss: 3.2930\n"
          ]
        }
      ],
      "source": [
        "from tensorflow.keras.preprocessing.image import ImageDataGenerator\n",
        "\n",
        "datagen = ImageDataGenerator(\n",
        "    rescale=1./255,\n",
        "    width_shift_range=0.1,\n",
        "    height_shift_range=0.1,\n",
        "    rotation_range=5,\n",
        "    shear_range=0.1,\n",
        "    brightness_range=(0.8, 1.2))\n",
        "datagen.fit(X_train)\n",
        "model_aug = build_cnn()\n",
        "history_aug = model_aug.fit(datagen.flow(X_train, y_train, batch_size=32),\n",
        "                             validation_data=(X_val, y_val), epochs=50)"
      ]
    },
    {
      "cell_type": "markdown",
      "id": "089d57a2",
      "metadata": {
        "id": "089d57a2"
      },
      "source": [
        "## 📉 8. Plot Training vs Validation Loss\n",
        "Visualize how the training and validation loss evolve over epochs to assess overfitting."
      ]
    },
    {
      "cell_type": "code",
      "execution_count": 18,
      "id": "e2acccb6",
      "metadata": {
        "colab": {
          "base_uri": "https://localhost:8080/",
          "height": 472
        },
        "id": "e2acccb6",
        "outputId": "0d23bbfc-7349-41da-fb5f-7b7176ef4109"
      },
      "outputs": [
        {
          "output_type": "display_data",
          "data": {
            "text/plain": [
              "<Figure size 640x480 with 1 Axes>"
            ],
            "image/png": "[encoded data removed]"
          },
          "metadata": {}
        }
      ],
      "source": [
        "plt.plot(history.history['loss'], label='Train Loss (no aug)')\n",
        "plt.plot(history.history['val_loss'], label='Val Loss (no aug)')\n",
        "plt.plot(history_aug.history['loss'], label='Train Loss (aug)')\n",
        "plt.plot(history_aug.history['val_loss'], label='Val Loss (aug)')\n",
        "plt.xlabel('Epoch'); plt.ylabel('Loss'); plt.title('Training and Validation Loss')\n",
        "plt.legend(); plt.grid(True); plt.savefig('loss_curve.png'); plt.show()"
      ]
    },
    {
      "cell_type": "markdown",
      "id": "7003bbe3",
      "metadata": {
        "id": "7003bbe3"
      },
      "source": [
        "## 📊 9. Evaluate on Test Set and Save Results"
      ]
    },
    {
      "cell_type": "code",
      "execution_count": 19,
      "id": "20cf9082",
      "metadata": {
        "colab": {
          "base_uri": "https://localhost:8080/"
        },
        "id": "20cf9082",
        "outputId": "d9be414e-c446-408a-ee62-e2b32ff30dc6"
      },
      "outputs": [
        {
          "output_type": "stream",
          "name": "stdout",
          "text": [
            "\u001b[1m16/16\u001b[0m \u001b[32m━━━━━━━━━━━━━━━━━━━━\u001b[0m\u001b[37m\u001b[0m \u001b[1m1s\u001b[0m 66ms/step\n",
            "Letter 0: 0.00\n",
            "Letter 1: 0.00\n",
            "Letter 2: 0.00\n",
            "Letter 3: 0.00\n",
            "Letter 4: 0.00\n",
            "Letter 5: 0.00\n",
            "Letter 6: 0.00\n",
            "Letter 7: 0.00\n",
            "Letter 8: 0.00\n",
            "Letter 9: 0.00\n",
            "Letter 10: 0.00\n",
            "Letter 11: 0.00\n",
            "Letter 12: 0.00\n",
            "Letter 13: 0.00\n",
            "Letter 14: 0.00\n",
            "Letter 15: 0.00\n",
            "Letter 16: 0.00\n",
            "Letter 17: 0.00\n",
            "Letter 18: 0.00\n",
            "Letter 19: 0.00\n",
            "Letter 20: 0.00\n",
            "Letter 21: 0.00\n",
            "Letter 22: 0.00\n",
            "Letter 23: 0.00\n",
            "Letter 24: 1.00\n",
            "Letter 25: 0.00\n",
            "Letter 26: 0.00\n",
            "Average accuracy: 0.037037037037037035\n"
          ]
        }
      ],
      "source": [
        "y_pred = np.argmax(model_aug.predict(X_test), axis=1)\n",
        "cm = confusion_matrix(y_test, y_pred)\n",
        "acc_per_class = cm.diagonal() / cm.sum(axis=1)\n",
        "for i, acc in enumerate(acc_per_class):\n",
        "    print(f'Letter {i}: {acc:.2f}')\n",
        "print('Average accuracy:', acc_per_class.mean())\n",
        "pd.DataFrame(cm).to_csv('confusion_matrix.csv', index=False)\n",
        "with open('results.txt', 'w') as f:\n",
        "    f.write('Letter    Accuracy\\n')\n",
        "    for i, acc in enumerate(acc_per_class):\n",
        "        f.write(f'{i:<10}{acc:.4f}\\n')\n",
        "    f.write(f'\\nAverage accuracy: {acc_per_class.mean():.4f}\\n')"
      ]
    }
  ],
  "metadata": {
    "colab": {
      "provenance": []
    },
    "language_info": {
      "name": "python"
    },
    "kernelspec": {
      "name": "python3",
      "display_name": "Python 3"
    }
  },
  "nbformat": 4,
  "nbformat_minor": 5
}